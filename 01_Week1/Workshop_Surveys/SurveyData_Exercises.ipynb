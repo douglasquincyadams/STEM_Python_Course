{
 "cells": [
  {
   "cell_type": "code",
   "execution_count": null,
   "metadata": {},
   "outputs": [],
   "source": [
    "# pip install textblob"
   ]
  },
  {
   "cell_type": "code",
   "execution_count": null,
   "metadata": {},
   "outputs": [],
   "source": [
    "#pip install pycountry"
   ]
  },
  {
   "cell_type": "code",
   "execution_count": null,
   "metadata": {},
   "outputs": [],
   "source": [
    "import os\n",
    "from astropy.table import Table, vstack, unique #this package is similar to pandas but personally, I like it more for survey data\n",
    "import pandas\n",
    "import numpy as np\n",
    "import pycountry\n",
    "import matplotlib.pyplot as plt\n",
    "from textblob import TextBlob"
   ]
  },
  {
   "cell_type": "code",
   "execution_count": null,
   "metadata": {},
   "outputs": [],
   "source": [
    "##Read in your data. os.path.join makes it so that you can type in your path without slashes because windows hates slashes\n",
    "##If you have an excel file or csv file, you can use that with pandas\n",
    "##read_csv from pandas reads in the csv file\n",
    "##Then we turn the data into an astropy Table\n",
    "\n",
    "# #An example to deal with headers in the reading stage\n",
    "# dat=pandas.read_excel(os.path.join('C:','\\\\','Users','elean','Documents','School','Python4STEM','SurveyData.xlsx'), header=0, skiprows=1)\n",
    "# dataA=Table.from_pandas(dat)\n",
    "\n",
    "#An example where you would want the first line to be your column names\n",
    "\n",
    "\n",
    "# #If you have a header but you don't want spaces in the questions (this is pretty unusual but qualtrics can be annoying with the double header)\n"
   ]
  },
  {
   "cell_type": "code",
   "execution_count": null,
   "metadata": {},
   "outputs": [],
   "source": [
    "#Header problems\n",
    "#We didn't want the data in row 0 (row after the header) so by doing [1:] we tell it to take the data after the 0th row\n",
    "#But before that, we want to store the row 0 for reference because it has the actual questions\n",
    "\n",
    "#By doing the data1[0:0], we created a new table with the same header and the same width as the data1 table\n",
    "\n",
    "\n",
    "#This adds the row with the questions in them to the question reference table\n",
    "\n",
    "\n"
   ]
  },
  {
   "cell_type": "code",
   "execution_count": null,
   "metadata": {},
   "outputs": [],
   "source": [
    "#This will take the data after the 0th row because from Qualtrics the 0th row has the sentence version of your questions\n"
   ]
  },
  {
   "cell_type": "code",
   "execution_count": null,
   "metadata": {},
   "outputs": [],
   "source": [
    "#Demonstrating stacking multiple datasets\n",
    "#vstack stacks data vertically so you want to do this when your data have the same columns\n",
    "\n",
    "\n",
    "\n",
    "\n",
    "#oh no, the data types are different what do we do???"
   ]
  },
  {
   "cell_type": "code",
   "execution_count": null,
   "metadata": {},
   "outputs": [],
   "source": [
    "#First we might try printing the data types of the two tables to visually see the difference\n"
   ]
  },
  {
   "cell_type": "code",
   "execution_count": null,
   "metadata": {},
   "outputs": [],
   "source": [
    "#Wow there are a lot of differences\n",
    "#We are just going to change the data types of all columns\n",
    "#Here we are changing everything to a 256 bit string\n",
    "\n"
   ]
  },
  {
   "cell_type": "code",
   "execution_count": null,
   "metadata": {},
   "outputs": [],
   "source": [
    "#Check if the data types of the columns you want to stack are the same\n",
    "#Data in columns have to be the same to stack them\n"
   ]
  },
  {
   "cell_type": "code",
   "execution_count": null,
   "metadata": {},
   "outputs": [],
   "source": [
    "#Demonstrating stacking multiple datasets\n",
    "#vstack stacks data vertically so you want to do this when your data have the same columns\n"
   ]
  },
  {
   "cell_type": "code",
   "execution_count": null,
   "metadata": {},
   "outputs": [],
   "source": [
    "#I forgot what the questions were for the next section, so let's check! Btw this only looks this nice in Jupyter\n"
   ]
  },
  {
   "cell_type": "code",
   "execution_count": null,
   "metadata": {},
   "outputs": [],
   "source": [
    "#Demonstrating selecting specific parts of a dataset by known item\n",
    "#We want only the people who like cookies n' cream, vanilla, chocolate, and other\n",
    "#But we might have a few problems like the n' and capitalization\n",
    "#We must use \"\" instead of '' to deal with the n' and .lower() to deal with the capitalization\n",
    "\n",
    "\n"
   ]
  },
  {
   "cell_type": "code",
   "execution_count": null,
   "metadata": {},
   "outputs": [],
   "source": [
    "#We want to know what the flavors are for \"other\" and luckily they added them as text\n",
    "#We can add those flavors that aren't nan to the Q2.4 column so we don't have to keep checking what \"other\" is\n",
    "  "
   ]
  },
  {
   "cell_type": "code",
   "execution_count": null,
   "metadata": {},
   "outputs": [],
   "source": [
    "#People may have answered the survey more than once. Let's only take the unique response IDs\n"
   ]
  },
  {
   "cell_type": "code",
   "execution_count": null,
   "metadata": {},
   "outputs": [],
   "source": [
    "#Demonstrating fixing countries\n",
    "#Pretty annoying that people typed in their countries in all different formats. Let's fix that\n"
   ]
  },
  {
   "cell_type": "code",
   "execution_count": null,
   "metadata": {},
   "outputs": [],
   "source": [
    "###Plotting data\n",
    "###This section makes the plots larger to make it easier to see\n"
   ]
  },
  {
   "cell_type": "code",
   "execution_count": null,
   "metadata": {},
   "outputs": [],
   "source": [
    "#Sentiment analysis has a bunch of different uses and packages the most common being #nltk\n",
    "#https://www.datacamp.com/community/tutorials/simplifying-sentiment-analysis-python\n",
    "# https://www.datacamp.com/community/tutorials/text-analytics-beginners-nltk\n",
    "# Lexicon-based: count number of positive and negative words in given text and the larger count will be the sentiment of text.\n",
    "# Machine learning based approach: Develop a classification model, which is trained using the pre-labeled dataset of positive, negative, and neutral.\n",
    "\n",
    "#Creates an empty sentiment column\n",
    "# urPandas['sentiment']=\"\"\n",
    "\n",
    "# for i in urPandas['Q2.3']:\n"
   ]
  },
  {
   "cell_type": "code",
   "execution_count": null,
   "metadata": {},
   "outputs": [],
   "source": []
  }
 ],
 "metadata": {
  "kernelspec": {
   "display_name": "Python 3",
   "language": "python",
   "name": "python3"
  },
  "language_info": {
   "codemirror_mode": {
    "name": "ipython",
    "version": 3
   },
   "file_extension": ".py",
   "mimetype": "text/x-python",
   "name": "python",
   "nbconvert_exporter": "python",
   "pygments_lexer": "ipython3",
   "version": "3.7.3"
  }
 },
 "nbformat": 4,
 "nbformat_minor": 2
}
