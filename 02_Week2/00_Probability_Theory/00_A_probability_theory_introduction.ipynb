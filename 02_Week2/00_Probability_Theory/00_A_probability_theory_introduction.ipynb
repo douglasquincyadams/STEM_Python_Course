{
 "cells": [
  {
   "cell_type": "markdown",
   "metadata": {},
   "source": [
    "## This notebook is meant to teach you the basics of probability theory using some direct examples with Python. "
   ]
  },
  {
   "cell_type": "markdown",
   "metadata": {},
   "source": [
    "# Imports"
   ]
  },
  {
   "cell_type": "code",
   "execution_count": null,
   "metadata": {},
   "outputs": [],
   "source": [
    "import numpy as np\n",
    "import scipy\n",
    "import scipy.stats\n",
    "import pandas\n",
    "import matplotlib.pyplot as plt"
   ]
  },
  {
   "cell_type": "markdown",
   "metadata": {},
   "source": [
    "# Read in the data:"
   ]
  },
  {
   "cell_type": "code",
   "execution_count": null,
   "metadata": {},
   "outputs": [],
   "source": [
    "data_filename='https://raw.githubusercontent.com/uofscphysics/STEM_Python_Course/Summer2020/02_Week2/Data/RandomVariable_Generated_Data.dat'\n",
    "data = pandas.read_csv( data_filename,sep=' ',header=0)\n",
    "print ( data )"
   ]
  },
  {
   "cell_type": "markdown",
   "metadata": {},
   "source": [
    "# One useful helper function for plotting:"
   ]
  },
  {
   "cell_type": "code",
   "execution_count": null,
   "metadata": {},
   "outputs": [],
   "source": [
    "def SimpleColorPlotFromFunc( \n",
    "    Func2D = None,\n",
    "    xmin = None,\n",
    "    xmax = None, \n",
    "    ymin = None,\n",
    "    ymax = None, \n",
    "    ):\n",
    "\n",
    "    #Make the list of poitns to plug in from the boundaries:\n",
    "    x = np.linspace(xmin, xmax, 100)\n",
    "    y = np.linspace(ymin, ymax, 100)\n",
    "    X, Y = np.meshgrid(x, y)\n",
    "    PointsToPlugIn = np.vstack([X.ravel(), Y.ravel()])\n",
    "    PointsToPlugInDataset = PointsToPlugIn.T\n",
    "\n",
    "\n",
    "    #plug in the list of points:\n",
    "    FunctionResultValuesForGrid = []\n",
    "    for Point in PointsToPlugInDataset:\n",
    "        Value = Func2D(Point)\n",
    "        FunctionResultValuesForGrid.append(Value)\n",
    "\n",
    "    #reshape stuff in a confusing way so matplotlib can think of the data like a matrix\n",
    "    Z = np.reshape(FunctionResultValuesForGrid, X.shape)\n",
    "\n",
    "\n",
    "    #Actually construct the figure...\n",
    "    plt.figure()\n",
    "    heatmap = plt.imshow( \n",
    "        np.rot90(Z), \n",
    "        extent=[xmin, xmax, ymin, ymax] ,\n",
    "        aspect = 'auto' ,\n",
    "        interpolation = None,\n",
    "        )  \n",
    "    "
   ]
  },
  {
   "cell_type": "markdown",
   "metadata": {},
   "source": [
    "# Marginal Distributions:"
   ]
  },
  {
   "cell_type": "markdown",
   "metadata": {},
   "source": [
    "### Make a histogram of the data from column A"
   ]
  },
  {
   "cell_type": "code",
   "execution_count": null,
   "metadata": {},
   "outputs": [],
   "source": [
    "# Here we have marginalized over the \"B\" parameter and are looking at the marginal \"A\" distribution\n",
    "Adata = data['A'] # just create an array of the \"A\" data\n",
    "plt.hist(Adata, density=True,bins=50,label='A') #plot a normalized histogram with 50 bins\n",
    "plt.xlabel('A')\n",
    "plt.ylabel('Number')\n",
    "plt.legend()\n",
    "plt.show()"
   ]
  },
  {
   "cell_type": "markdown",
   "metadata": {},
   "source": [
    "### Make a histogram of the data from column B"
   ]
  },
  {
   "cell_type": "code",
   "execution_count": null,
   "metadata": {},
   "outputs": [],
   "source": [
    "# Here we have marginalized over the \"A\" parameter and are looking at the marginal \"B\" distribution\n",
    "Bdata = data['B'] # just create an array of the \"B\" data\n",
    "plt.hist(Bdata, density=True,bins=50,label='B') # plot a normalized histogram with 50 bins\n",
    "plt.xlabel('B')\n",
    "plt.ylabel('Number')\n",
    "plt.legend()\n",
    "plt.show()"
   ]
  },
  {
   "cell_type": "markdown",
   "metadata": {},
   "source": [
    "### Approximate the data from column A as a univariate gaussian: (MARGINAL)"
   ]
  },
  {
   "cell_type": "code",
   "execution_count": null,
   "metadata": {},
   "outputs": [],
   "source": [
    "# Here we just use the measured mean and standard deviation of the Adata to approximate the\n",
    "# marginal distribution as a 1D Gaussian distribution\n",
    "A_standard_deviation = np.std( Adata ) \n",
    "A_mean = np.mean(Adata)\n",
    "\n",
    "ATrialPoints = np.linspace(-10, 15, 100) # Get some trial points to test our Gaussian\n",
    "                                         # approximation (linspace makes 100 points between)\n",
    "                                         # -10 and 15\n",
    "AValuePoints = scipy.stats.norm.pdf(ATrialPoints, loc = A_mean, scale = A_standard_deviation )\n",
    "\n",
    "plt.hist(Adata, density=True, bins=50,label='Binned A')\n",
    "plt.plot(ATrialPoints, AValuePoints,label='Gaussian A')\n",
    "plt.xlabel('A')\n",
    "plt.ylabel('Number')\n",
    "plt.legend()\n",
    "plt.show()"
   ]
  },
  {
   "cell_type": "markdown",
   "metadata": {},
   "source": [
    "### Approximate the data from column B as a univariate gaussian: (MARGINAL)"
   ]
  },
  {
   "cell_type": "code",
   "execution_count": null,
   "metadata": {},
   "outputs": [],
   "source": [
    "# Same as the previous cell, but now for the B data array\n",
    "B_standard_deviation = np.std( Bdata )\n",
    "B_mean = np.mean(Bdata)\n",
    "\n",
    "BTrialPoints = np.linspace(-10, 20, 100) # Get some trial points to test our Gaussian\n",
    "                                         # approximation (linspace makes 100 points between)\n",
    "                                         # -10 and 20\n",
    "BValuePoints = scipy.stats.norm.pdf(BTrialPoints, loc = B_mean, scale = B_standard_deviation )\n",
    "\n",
    "plt.hist(Bdata, density=True, bins=50,label='Binned B')\n",
    "plt.plot(BTrialPoints, BValuePoints,label='Gaussian B')\n",
    "plt.xlabel('B')\n",
    "plt.ylabel('Number')\n",
    "plt.legend()\n",
    "plt.show()"
   ]
  },
  {
   "cell_type": "markdown",
   "metadata": {},
   "source": [
    "# Conditional distributions"
   ]
  },
  {
   "cell_type": "markdown",
   "metadata": {},
   "source": [
    "### (1) Approximate the joint probability density function of A and B with a multivariate gaussian\n"
   ]
  },
  {
   "cell_type": "code",
   "execution_count": null,
   "metadata": {},
   "outputs": [],
   "source": [
    "# In the previous 2 cells, we approximated each marginal distribution as a 1D Gaussian, with\n",
    "# varying results. Now we can combine the A and B data into a single array and approximate\n",
    "# the \"joint probability density\" as a 2D Gaussian.\n",
    "\n",
    "ABdata = np.vstack( ( data['A'], data['B'] ) ).T # vstack simply stacks a list of arrays\n",
    "                                                 # so we give it a list of the A and B data.\n",
    "                                                 # The \".T\" performs a transpose, because\n",
    "                                                 # by default this will give us the data in\n",
    "                                                 # 2 rows and 1000 columns, we want the opposite.\n",
    "print('ABdata:', ABdata)\n",
    "print('ABdata shape:', ABdata.shape)\n",
    "\n",
    "ABMean = np.mean( ABdata, axis = 0 ) # axis = 0 says to take the mean along the \"row\" axis, so that\n",
    "                                     # we end up with an \"A\" mean and a \"B\" mean. \n",
    "print ('ABdata Mean:',ABMean)\n",
    "\n",
    "ABCovarianceMatrix = np.cov( ABdata, rowvar = False ) # A 2D Gaussian is defined with a covariance\n",
    "                                                      # matrix instead of a standard deviation.\n",
    "print ('ABdata Covariance Matrix:',ABCovarianceMatrix)\n",
    "\n",
    "# Let's define a function that simply takes a point (A,B) and returns the result \n",
    "# of the 2D Gaussian defined by the means/covariance matrix above at that point.\n",
    "def jointGaussian(ABpoint):\n",
    "    return scipy.stats.multivariate_normal.pdf( ABpoint, ABMean, ABCovarianceMatrix )\n",
    "\n",
    "print('2D Gaussian result:',jointGaussian([0,0]))\n",
    "\n",
    "SimpleColorPlotFromFunc(jointGaussian,\n",
    "                        xmin = np.min(Adata),\n",
    "                        xmax = np.max(Adata),\n",
    "                        ymin = np.min(Bdata),\n",
    "                        ymax = np.max(Bdata))\n",
    "plt.title(\"Probability Density of A & B\", fontsize=30)\n",
    "plt.ylabel('B',fontsize=40)\n",
    "plt.xlabel('A',fontsize=40)\n",
    "plt.draw()\n",
    "plt.show()"
   ]
  },
  {
   "cell_type": "markdown",
   "metadata": {},
   "source": [
    "### (1)  Fixing A = 0, plot the unnormalized conditional probability density of B:\n",
    "P(B|A)\n",
    "=====\n"
   ]
  },
  {
   "cell_type": "code",
   "execution_count": null,
   "metadata": {},
   "outputs": [],
   "source": [
    "# The conditional probability density of \"B given A=0\", means setting the value of A in our \n",
    "# 2D distribution equal to 0 and observing the distribution of B values for that restriction\n",
    "\n",
    "# We can define a function that calculates the B probability density, conditioinal\n",
    "# on A=0, unnormalized. It simply calls our \"jointGaussian\" function above with A=0 and\n",
    "# any B value. \n",
    "def BdensityConditionalOnA0_unnormalized(Bpoint):\n",
    "    return jointGaussian( [0, Bpoint] )\n",
    "\n",
    "testB_Values=np.linspace(np.min(Bdata),np.max(Bdata),1000) # get a range of B values to plot\n",
    "BdensityConditionalOnA_Values=[] # this will be marginal P(B|A=0)\n",
    "# Let's calculate the conditional probability given A=0 for each one of the B\n",
    "# values in \"testB_Values\"\n",
    "for B_value in testB_Values: \n",
    "    BdensityConditionalOnA_Values.append(BdensityConditionalOnA0_unnormalized(B_value))\n",
    "plt.plot(testB_Values,BdensityConditionalOnA_Values,label='A=0')\n",
    "plt.ylabel('P(B|A)',fontsize=30)\n",
    "plt.xlabel('B',fontsize=30)\n",
    "plt.legend(fontsize=15)\n",
    "plt.show()"
   ]
  },
  {
   "cell_type": "markdown",
   "metadata": {},
   "source": [
    "### (1) Find the conditional probability density of B for a range of A values.\n"
   ]
  },
  {
   "cell_type": "code",
   "execution_count": null,
   "metadata": {},
   "outputs": [],
   "source": [
    "# Now let's do the same thing but for a range of different A values. Compare the plot at the end\n",
    "# with the 2D distribution we created above to make sure you understand what we are plotting here\n",
    "# and what it means. \n",
    "\n",
    "A_fixed_values=[1,3,5,7] \n",
    "\n",
    "testB_Values=np.linspace(np.min(Bdata),np.max(Bdata),1000)\n",
    "\n",
    "# We can loop through the A_fixed_values list above,\n",
    "# and essentially create the same list and plot as the \n",
    "# previous cell for each iteration. Therefore on the \n",
    "# first iteration for example, we will be finding the \n",
    "# conditional probability density of B given that A=1.\n",
    "for Afixed in A_fixed_values:\n",
    "    # We can create the same function used in the \n",
    "    # previous cell, except now we set the A value to\n",
    "    # Afixed (which is changing on every iteration)\n",
    "    # instead of simply A=0.\n",
    "    def BdensityConditionalOnA_unormalized(Bpoint):\n",
    "        return jointGaussian( [Afixed, Bpoint] )\n",
    "    BdensityConditionalOnA_Values=[]\n",
    "    for B_value in testB_Values:\n",
    "        BdensityConditionalOnA_Values.append(BdensityConditionalOnA_unormalized(B_value))\n",
    "    plt.plot(testB_Values,BdensityConditionalOnA_Values,label='A='+str(Afixed))\n",
    "\n",
    "plt.legend(fontsize=15)\n",
    "plt.ylabel('P(B|A)',fontsize=30)\n",
    "plt.xlabel('B',fontsize=30)\n",
    "plt.show()\n"
   ]
  },
  {
   "cell_type": "markdown",
   "metadata": {},
   "source": [
    "### (1) Fixing B = 0 plot the unnormalized probability density of A:\n"
   ]
  },
  {
   "cell_type": "code",
   "execution_count": null,
   "metadata": {},
   "outputs": [],
   "source": [
    "# This is now the exact same process as above (setting A=0), except now we find\n",
    "# the conditional probability density for A, given that B=0.\n",
    "\n",
    "def AdensityConditionalOnB0_unnormalized(Apoint):\n",
    "    return jointGaussian( [Apoint, 0] )\n",
    "\n",
    "A_values=np.linspace(np.min(Adata),np.max(Adata),1000)\n",
    "AdensityConditionalOnB_Values=[] # this will be marginal P(B|A=0)\n",
    "for A_value in A_values:\n",
    "    AdensityConditionalOnB_Values.append(AdensityConditionalOnB0_unnormalized(A_value))\n",
    "plt.plot(A_values,AdensityConditionalOnB_Values,label='B=0')\n",
    "\n",
    "plt.ylabel('P(A|B)',fontsize=30)\n",
    "plt.xlabel('A',fontsize=30)\n",
    "plt.legend(fontsize=15)\n",
    "plt.show()\n"
   ]
  },
  {
   "cell_type": "code",
   "execution_count": null,
   "metadata": {},
   "outputs": [],
   "source": []
  }
 ],
 "metadata": {
  "kernelspec": {
   "display_name": "Python 3",
   "language": "python",
   "name": "python3"
  },
  "language_info": {
   "codemirror_mode": {
    "name": "ipython",
    "version": 3
   },
   "file_extension": ".py",
   "mimetype": "text/x-python",
   "name": "python",
   "nbconvert_exporter": "python",
   "pygments_lexer": "ipython3",
   "version": "3.6.8"
  }
 },
 "nbformat": 4,
 "nbformat_minor": 2
}
