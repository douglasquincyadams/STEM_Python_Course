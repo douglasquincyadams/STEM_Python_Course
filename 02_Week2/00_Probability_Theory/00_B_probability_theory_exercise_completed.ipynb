{
 "cells": [
  {
   "cell_type": "code",
   "execution_count": null,
   "metadata": {},
   "outputs": [],
   "source": [
    "import numpy as np\n",
    "import scipy\n",
    "import scipy.stats\n",
    "import matplotlib.pyplot as plt"
   ]
  },
  {
   "cell_type": "code",
   "execution_count": null,
   "metadata": {},
   "outputs": [],
   "source": [
    "np.random.seed(3) # This just makes sure everyone has the same \"random\" samples"
   ]
  },
  {
   "cell_type": "code",
   "execution_count": null,
   "metadata": {},
   "outputs": [],
   "source": [
    "# This is the same helper plotting function for 2D distributions used before\n",
    "def SimpleColorPlotFromFunc( \n",
    "    Func2D = None,\n",
    "    xmin = None,\n",
    "    xmax = None, \n",
    "    ymin = None,\n",
    "    ymax = None, \n",
    "    ):\n",
    "\n",
    "    #Make the list of poitns to plug in from the boundaries:\n",
    "    x = np.linspace(xmin, xmax, 100)\n",
    "    y = np.linspace(ymin, ymax, 100)\n",
    "    X, Y = np.meshgrid(x, y)\n",
    "    PointsToPlugIn = np.vstack([X.ravel(), Y.ravel()])\n",
    "    PointsToPlugInDataset = PointsToPlugIn.T\n",
    "\n",
    "\n",
    "    #plug in the list of points:\n",
    "    FunctionResultValuesForGrid = []\n",
    "    for Point in PointsToPlugInDataset:\n",
    "        Value = Func2D(Point)\n",
    "        FunctionResultValuesForGrid.append(Value)\n",
    "\n",
    "    #reshape stuff in a confusing way so matplotlib can think of the data like a matrix\n",
    "    Z = np.reshape(FunctionResultValuesForGrid, X.shape).T\n",
    "\n",
    "\n",
    "    #Actually construct the figure...\n",
    "    plt.figure()\n",
    "    heatmap = plt.imshow( \n",
    "        np.rot90(Z), \n",
    "        extent=[xmin, xmax, ymin, ymax] ,\n",
    "        aspect = 'auto' ,\n",
    "        interpolation = None,\n",
    "        )  \n",
    "    "
   ]
  },
  {
   "cell_type": "markdown",
   "metadata": {},
   "source": [
    "# Defining our distribution\n",
    "We define an underlying model (in this case a 2D Gaussian distribution) and then take a large number of samples from it to represent an \"observed\" vs. \"model\" distribution. First we Define the underlying distribution:"
   ]
  },
  {
   "cell_type": "code",
   "execution_count": null,
   "metadata": {},
   "outputs": [],
   "source": [
    "# We want to make a 2D Gaussian defined by the sum of 2 2D Gaussian distributions.\n",
    "# As we saw, each 2D Gaussian needs a mean in each dimension and a covariance matrix.\n",
    "Gaussian1Mean = [1,1]\n",
    "Gaussian2Mean = [2,4]\n",
    "\n",
    "Gaussian1Covariance = np.identity(2)*1\n",
    "Gaussian2Covariance = np.identity(2)*1\n",
    "\n",
    "# Like in the introduction, we now have a function for each Gaussian that accepts a point (A,B),\n",
    "# and returns the result of the Gaussian defined by the parameters above. \n",
    "def Gaussian1(ABpoint):\n",
    "    return scipy.stats.multivariate_normal.pdf( ABpoint, mean = Gaussian1Mean, \n",
    "                                               cov = Gaussian1Covariance )\n",
    "\n",
    "def Gaussian2(ABpoint):\n",
    "    return scipy.stats.multivariate_normal.pdf( ABpoint, mean = Gaussian2Mean, \n",
    "                                               cov = Gaussian2Covariance )\n",
    "\n",
    "# And finally we define our final distribution, which is the sum of our other two Gaussian\n",
    "# distributions\n",
    "def GaussianMultiModal(ABpoint):\n",
    "    return Gaussian1(ABpoint) + Gaussian2(ABpoint)\n",
    "\n",
    "# Use our helper to plot what we get.\n",
    "SimpleColorPlotFromFunc( \n",
    "    Func2D = GaussianMultiModal,\n",
    "    xmin = -1,\n",
    "    xmax = 5, \n",
    "    ymin = -1,\n",
    "    ymax = 5, \n",
    "    )\n",
    "plt.title(\"Probability Density of A & B\", fontsize=30)\n",
    "plt.ylabel('B',fontsize=40)\n",
    "plt.xlabel('A',fontsize=40)"
   ]
  },
  {
   "cell_type": "markdown",
   "metadata": {},
   "source": [
    "Notice that what we get now is a 2D distribution with 2 clear peaks. Consider a case where this is the probability density you observe for some measurement you're making. This means there are two regions of parameter space that have a high probability of occurring. Or if we pretend this is a measured \"posterior\" distribution after fitting for two parameters, we can see that there are two regions of parameter space that have an equal probability of being the \"truth\". It's important when fitting for parameters or measuring underlying distributions that we don't simply attempt to find the most probable solution, but also know what this full picture looks like. We will discuss this while learning fitting with MCMC. "
   ]
  },
  {
   "cell_type": "markdown",
   "metadata": {},
   "source": [
    "## Assume that the samples generated below are representative of the distribution"
   ]
  },
  {
   "cell_type": "code",
   "execution_count": null,
   "metadata": {},
   "outputs": [],
   "source": [
    "# We can create 10k samples from these underlying distributions by simply asking for 10k samples\n",
    "# using the same parameters that define the Gaussian distributions.\n",
    "DataSamples1 = np.random.multivariate_normal(Gaussian1Mean,Gaussian1Covariance,size=10000)\n",
    "DataSamples2 = np.random.multivariate_normal(Gaussian2Mean,Gaussian2Covariance,size=10000)\n",
    "\n",
    "CombinedSamples = np.vstack([DataSamples1,DataSamples2]) # We don't need a transpose here\n",
    "                                                         # because of the shape of the array\n",
    "                                                         # returned by the multivariate_normal\n",
    "                                                         # function (see the print statement)\n",
    "print('Combined shape:',CombinedSamples.shape)\n",
    "np.random.shuffle(CombinedSamples) # This just shuffles the samples around \n",
    "# Let's plot this, and note that it looks like a pixelated version\n",
    "# of the 2D plot above. This shows that it's a dataset from the same\n",
    "# underlying distribution, but just a smaller number of datapoints. \n",
    "_=plt.hist2d(CombinedSamples[:,0],CombinedSamples[:,1],bins=30) \n",
    "\n",
    "# We can define these same Adata and Bdata as we did in the introduction notebook\n",
    "Adata = CombinedSamples[:,0]\n",
    "Bdata = CombinedSamples[:,1]\n"
   ]
  },
  {
   "cell_type": "markdown",
   "metadata": {},
   "source": [
    "# Find & plot the conditional probability P(B | A = 1,1.5,2)\n",
    "Using the probability theory reference notebook, find and plot each conditional probability of A, given B=1, then 1.5, then 2. "
   ]
  },
  {
   "cell_type": "code",
   "execution_count": null,
   "metadata": {},
   "outputs": [],
   "source": [
    "A_fixed_values=[1,1.5,2]\n",
    "\n",
    "testB_Values=np.linspace(np.min(Bdata),np.max(Bdata),1000)\n",
    "\n",
    "# We can loop through the A_fixed_values list above,\n",
    "# and essentially create the same list and plot as the \n",
    "# previous cell for each iteration. Therefore on the \n",
    "# first iteration for example, we will be finding the \n",
    "# conditional probability density of B given that A=1.\n",
    "for Afixed in A_fixed_values:\n",
    "    def BdensityConditionalOnA_unormalized(Bpoint):\n",
    "        return GaussianMultiModal( [Afixed, Bpoint] )\n",
    "    BdensityConditionalOnA_Values=[]\n",
    "    for B_value in testB_Values:\n",
    "        BdensityConditionalOnA_Values.append(BdensityConditionalOnA_unormalized(B_value))\n",
    "    plt.plot(testB_Values,BdensityConditionalOnA_Values,label='A='+str(Afixed))\n",
    "\n",
    "plt.legend(fontsize=15)\n",
    "plt.ylabel('P(B|A)',fontsize=30)\n",
    "plt.xlabel('B',fontsize=30)\n",
    "plt.show()\n"
   ]
  },
  {
   "cell_type": "markdown",
   "metadata": {},
   "source": [
    "# Find & plot the marginal probability of A\n",
    "Using the samples provided above (`CombinedSamples`), find and plot a histogram showing the marginal probability of A. Then add a best-fit Gaussian on top of your histogram."
   ]
  },
  {
   "cell_type": "code",
   "execution_count": null,
   "metadata": {},
   "outputs": [],
   "source": [
    "A_standard_deviation = np.std( Adata )\n",
    "A_mean = np.mean(Adata)\n",
    "\n",
    "ATrialPoints = np.linspace(-3, 5, 100)\n",
    "AValuePoints = scipy.stats.norm.pdf(ATrialPoints, loc = A_mean, scale = A_standard_deviation )\n",
    "plt.plot(ATrialPoints, AValuePoints,label='Gaussian A')\n",
    "\n",
    "plt.hist(Adata, density=True,bins=50,label='A')\n",
    "plt.xlabel('A')\n",
    "plt.ylabel('Number')\n",
    "plt.legend()\n",
    "plt.show()"
   ]
  },
  {
   "cell_type": "markdown",
   "metadata": {},
   "source": [
    "# Find & plot the marginal probability of B\n",
    "Using the samples provided above (`CombinedSamples`), find and plot a histogram showing the marginal probability of A. Then add a best-fit Gaussian on top of your histogram."
   ]
  },
  {
   "cell_type": "code",
   "execution_count": null,
   "metadata": {},
   "outputs": [],
   "source": [
    "B_standard_deviation = np.std( Bdata )\n",
    "B_mean = np.mean(Bdata)\n",
    "\n",
    "BTrialPoints = np.linspace(-5, 8, 100)\n",
    "BValuePoints = scipy.stats.norm.pdf(BTrialPoints, loc = B_mean, scale = B_standard_deviation )\n",
    "\n",
    "plt.hist(Bdata, density=True,bins=50,label='B')\n",
    "plt.plot(BTrialPoints, BValuePoints,label='Gaussian B')\n",
    "\n",
    "plt.xlabel('B')\n",
    "plt.ylabel('Number')\n",
    "plt.legend()\n",
    "plt.show()"
   ]
  },
  {
   "cell_type": "code",
   "execution_count": null,
   "metadata": {},
   "outputs": [],
   "source": []
  }
 ],
 "metadata": {
  "kernelspec": {
   "display_name": "Python 3",
   "language": "python",
   "name": "python3"
  },
  "language_info": {
   "codemirror_mode": {
    "name": "ipython",
    "version": 3
   },
   "file_extension": ".py",
   "mimetype": "text/x-python",
   "name": "python",
   "nbconvert_exporter": "python",
   "pygments_lexer": "ipython3",
   "version": "3.6.8"
  }
 },
 "nbformat": 4,
 "nbformat_minor": 2
}
