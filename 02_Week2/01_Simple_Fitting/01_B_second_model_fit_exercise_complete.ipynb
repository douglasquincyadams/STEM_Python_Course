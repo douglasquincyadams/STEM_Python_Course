{
 "cells": [
  {
   "cell_type": "code",
   "execution_count": null,
   "metadata": {},
   "outputs": [],
   "source": [
    "# import all packages\n",
    "import scipy\n",
    "import pandas\n",
    "import scipy.optimize\n",
    "import scipy.stats\n",
    "import matplotlib.pyplot as plt\n",
    "import numpy as np"
   ]
  },
  {
   "cell_type": "code",
   "execution_count": null,
   "metadata": {},
   "outputs": [],
   "source": [
    "# read in some data we created for this example (.dat is a generic filename, it's just a text file)\n",
    "data_filename='https://raw.githubusercontent.com/uofscphysics/STEM_Python_Course/Summer2020/02_Week2/Data/1D_intro_examples.dat'\n",
    "example_data_1D = pandas.read_csv(data_filename,sep=',',header=0)#this file is separated by spaces and its first line contains the names of the columns (header) \n",
    "print(example_data_1D.head())"
   ]
  },
  {
   "cell_type": "code",
   "execution_count": null,
   "metadata": {},
   "outputs": [],
   "source": [
    "#Let's plot the data, with error bars, that we read from file (See Day 2)\n",
    "plt.errorbar(example_data_1D['x'], #x,y,and error are the column names\n",
    "             example_data_1D['y'], \n",
    "             yerr=example_data_1D['error'],#yerr denotes an error in the y-direction for plotting\n",
    "             fmt='.') #fmt is \"format\", saying that I want data marked by \"points\"\n",
    "plt.xlabel('x') #set the x-axis label \n",
    "plt.ylabel('y') #set the y-axis label\n",
    "plt.show()"
   ]
  },
  {
   "cell_type": "code",
   "execution_count": null,
   "metadata": {},
   "outputs": [],
   "source": [
    "def my_model(x,a,b,c):\n",
    "    return a + b*np.exp(c*x)"
   ]
  },
  {
   "cell_type": "markdown",
   "metadata": {},
   "source": [
    "### Repeat the same process as for the quadratic equation introductory exercise with this new model, seeing how the fit is. Keep things in mind like what you would do if there was a different number of parameters, etc. Note that based on the data we'll want an increasing exponential function. Put a bound on the `c` variable to make it positive. Sometimes we need to apply our own knowledge of a situation like this to make sure model fitting doesn't go awry. "
   ]
  },
  {
   "cell_type": "code",
   "execution_count": null,
   "metadata": {},
   "outputs": [],
   "source": [
    "#Let's try and fit the data with a chi-square minimization\n",
    "def chisq_likelihood(theta, args):\n",
    "    #This function accepts an argument \"theta\", which is \n",
    "    #a list of model parameters a, b and c. It then calculates\n",
    "    #a chi-square statistic that it returns, which compares\n",
    "    #the observations, errors, and model provided in args.\n",
    "    \n",
    "    x, y, yerr = args #args is a list, so this is the same as x=args[0],y=args[1],yerr=args[2]. x,y, and yerr are numpy arrays, mod is a function.\n",
    "    a,b,c = theta #theta is also a list, so it follows the same as args above\n",
    "    model_observations = my_model(x,a,b,c) #mod (a model) is the 4th element of args, and it accepts x values, and the three model parameters a,b,c. Now model_observations contains the model values at every point in x (and is a numpy array)\n",
    "    inv_sigma2 = 1./yerr**2 #The chi-square statistic contains an inverse-square error, which we calculate here\n",
    "    chisquare = np.sum((y-model_observations)**2*inv_sigma2 )#calculate the chi-square statistic. \n",
    "    return chisquare\n",
    "\n",
    "#Use scipy.optimize.minimize to minimize the chi-square, which\n",
    "#is the same as maximizing the likelihood.\n",
    "result = scipy.optimize.minimize(chisq_likelihood, #the first argument is the function to minimize, which must accept a list of parameters as its first argument, and any other necessary agruments as its second.\n",
    "                                 x0=[-10,200,.1], #x0 is a first guess for each of your parameters (depends on your model/data)\n",
    "                                 bounds=[(-100,100),(-100,100),(0,100)], #optional bounds for each of your parameters\n",
    "                                 args=[example_data_1D['x'],#the args passed to chisq_likelihood above\n",
    "                                       example_data_1D['y'],\n",
    "                                       example_data_1D['error']])#my_model is defined in a previous cell\n",
    "\n",
    "print(result)#scipy.optimize.minimize returns a dictionary which I've called result. It has other information, the \"x\" element has the best fit values\n",
    "a_ml,b_ml,c_ml = result[\"x\"] #get our best fit values from result\n",
    "\n",
    "#set up plotting the model over the data\n",
    "plt.errorbar(example_data_1D['x'],\n",
    "             example_data_1D['y'],\n",
    "             yerr=example_data_1D['error'],\n",
    "             fmt='.',\n",
    "             label='Data')\n",
    "\n",
    "plt.plot(example_data_1D['x'],\n",
    "         my_model(example_data_1D['x'],a_ml,b_ml,c_ml),\n",
    "         'g--',#make the line green and dashed\n",
    "         label='$\\chi^2$ Fit')\n",
    "\n",
    "plt.xlabel('x')\n",
    "plt.ylabel('y')\n",
    "plt.legend()\n",
    "print('Chi-square fit:',a_ml, b_ml,c_ml)\n",
    "plt.show()"
   ]
  },
  {
   "cell_type": "code",
   "execution_count": null,
   "metadata": {},
   "outputs": [],
   "source": []
  }
 ],
 "metadata": {
  "kernelspec": {
   "display_name": "Python 3",
   "language": "python",
   "name": "python3"
  },
  "language_info": {
   "codemirror_mode": {
    "name": "ipython",
    "version": 3
   },
   "file_extension": ".py",
   "mimetype": "text/x-python",
   "name": "python",
   "nbconvert_exporter": "python",
   "pygments_lexer": "ipython3",
   "version": "3.6.8"
  }
 },
 "nbformat": 4,
 "nbformat_minor": 2
}
