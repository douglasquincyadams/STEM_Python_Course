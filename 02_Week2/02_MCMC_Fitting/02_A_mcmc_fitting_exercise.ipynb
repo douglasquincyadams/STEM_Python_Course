{
 "cells": [
  {
   "cell_type": "code",
   "execution_count": null,
   "metadata": {},
   "outputs": [],
   "source": [
    "!pip install corner emcee"
   ]
  },
  {
   "cell_type": "code",
   "execution_count": null,
   "metadata": {},
   "outputs": [],
   "source": [
    "# import all packages\n",
    "import corner,emcee\n",
    "import pandas\n",
    "import matplotlib.pyplot as plt\n",
    "import numpy as np"
   ]
  },
  {
   "cell_type": "code",
   "execution_count": null,
   "metadata": {},
   "outputs": [],
   "source": [
    "# read in some data we created for this example (.dat is a generic filename, it's just a text file)\n",
    "data_filename='https://raw.githubusercontent.com/uofscphysics/STEM_Python_Course/Summer2020/02_Week2/Data/1D_intro_examples.dat'\n",
    "example_data_1D = pandas.read_csv(data_filename,sep=',',header=0)#this file is separated by spaces and its first line contains the names of the columns (header) \n",
    "print(example_data_1D.head())"
   ]
  },
  {
   "cell_type": "code",
   "execution_count": null,
   "metadata": {},
   "outputs": [],
   "source": [
    "#Let's plot the data, with error bars, that we read from file (See Day 2)\n",
    "plt.errorbar(example_data_1D['x'], #x,y,and error are the column names\n",
    "             example_data_1D['y'], \n",
    "             yerr=example_data_1D['error'],#yerr denotes an error in the y-direction for plotting\n",
    "             fmt='.') #fmt is \"format\", saying that I want data marked by \"points\"\n",
    "plt.xlabel('x') #set the x-axis label \n",
    "plt.ylabel('y') #set the y-axis label\n",
    "plt.show()"
   ]
  },
  {
   "cell_type": "code",
   "execution_count": null,
   "metadata": {},
   "outputs": [],
   "source": [
    "#The data were generated with a simple quadratic equation:\n",
    "#ax^2+bx+c. \n",
    "def my_model(x,a,b,c): #We define the model described above\n",
    "    return(a*x**2+b*x+c)"
   ]
  },
  {
   "cell_type": "markdown",
   "metadata": {},
   "source": [
    "#### We can obtain best-fit parameters using a Markov Chain Monte Carlo algorithm (MCMC). The premise here is that we have a way of representing the \"likelihood\" of a given set of parameters being the \"truth\". This is done by having a function that compares your model (given a choice of parameters) to your data, returning a \"likelihood\" that increases for more likely choices of parameters (parameters that cause a better fit to the data). Once we have this function, the MCMC algorithm essentially just tries a set number of different combinations of your model parameters in a more efficient manner than simply random choices. Based on the final distribution of samples and resulting likelihoods, we obtain estimates of the best-fit parameters and posterior distributions. \n",
    "\n",
    "#### Now create such a likelihood function. Remember that before we used a $\\chi^2$ function to estimate best-fit parameters. In that case, we wanted to minimize the $\\chi^2$ statistic to find best-fit parameters. Now we want a likelihood function maximize instead of minimize, but the principle is the same (calculating how well a given choice of parameters reproduces the observed data given your model). Therefore, you can just use the opposite (negative) of your $\\chi^2$ function as your likelihood function. For now, just leave your function as-is (we can add the negative in later)."
   ]
  },
  {
   "cell_type": "code",
   "execution_count": null,
   "metadata": {},
   "outputs": [],
   "source": [
    "# Your chi-square function here"
   ]
  },
  {
   "cell_type": "markdown",
   "metadata": {},
   "source": [
    "#### The prior function holds any information you know beforehand about the model parameters (e.g. bounds). The simplest form of prior just returns a probability of 1 if you are within specified bounds, or 0 if not. It is computationally more efficient to add numbers than multiply, and a $\\chi^2$ is already the log of a probability, so we usually use a \"log\" prior instead of simply a prior so that it can be added directly to our likelihood. Your prior function should therefore return 0 if all parameters are within their bounds ($\\ln(1)=0$), and `-np.inf` otherwise ($\\ln(0)\\rightarrow-\\infty$). You can set your bounds however you want, maybe start with (-20,20) for all parameters."
   ]
  },
  {
   "cell_type": "code",
   "execution_count": null,
   "metadata": {},
   "outputs": [],
   "source": [
    "# Create a log-prior function. \n"
   ]
  },
  {
   "cell_type": "markdown",
   "metadata": {},
   "source": [
    "#### Okay that's it. Now we just need a function that combines the two functions written above, that should be maximized by the MCMC sampler. It should accept an array of parameters, as well as the data and uncertainty (`x,y,yerr`)"
   ]
  },
  {
   "cell_type": "code",
   "execution_count": null,
   "metadata": {},
   "outputs": [],
   "source": [
    "# Set up your final log-likelihood function here\n"
   ]
  },
  {
   "cell_type": "markdown",
   "metadata": {},
   "source": [
    "#### Now we can finally set up an MCMC sampler. We need to define the number of dimensions (number of model parameters) and the number of \"walkers\" we want. Think of a large room, which contains all of the possible combinations of parameters for our model. Imagine you walk this room blindfolded, and every step you take you just ask someone else what the likelihood is that your current space is the \"truth\", before moving on. The more people walking around your room the better coverage you'll get, meaning you'll be able to try more independent regions of your parameter space. This is what `nwalkers` does below, it sets the number of blindfolded people walking around the room. The higher this number, the slower the code will run."
   ]
  },
  {
   "cell_type": "code",
   "execution_count": null,
   "metadata": {},
   "outputs": [],
   "source": [
    "#Set up the MCMC to sample the full parameter space\n",
    "ndim, nwalkers = 3, 500 #number of parameters to fit (3); number of individual \"walkers\" that randomly sample the space. Choose any number, the higher the slower.\n",
    "best_guess_parameters = np.array([1,1,1])\n",
    "\n",
    "# This sets the starting position of each walker. It's just creating a list\n",
    "# of length nwalkers, and number of columns equal to ndim. Each row contains\n",
    "# a random location for a walker to start, based on a Gaussian\n",
    "# centered on your best guess. You can tighten or loosen this constraint by\n",
    "# changing the \"starting_location_width\" parameter\n",
    "starting_location_width = 5\n",
    "starting_positions = []\n",
    "for i in range(nwalkers):\n",
    "    starting_positions.append(best_guess_parameters + starting_location_width*np.random.randn(ndim))\n",
    "\n",
    "#Let's just look at where walkers are starting in the a-b-c parameter space\n",
    "#(Doesn't need to be included in your own code)\n",
    "#Notice we get a random sampling near our best guess (blue lines)\n",
    "corner.corner(starting_positions,\n",
    "              labels=['a','b','c'],\n",
    "              truths=best_guess_parameters,\n",
    "              plot_contours=False,plot_density=False,plot_datapoints=True)\n",
    "\n",
    "plt.show()"
   ]
  },
  {
   "cell_type": "markdown",
   "metadata": {},
   "source": [
    "#### Okay this actually starts the sampler. The necessary parameters are the number of walkers, the number of dimensions, your function to maximize (the last one you wrote above), and an argument called `args` that is equal to a list or tuple of any arguments that need to be passed to your (log)-likelihood function apart from the array of parameter guesses."
   ]
  },
  {
   "cell_type": "code",
   "execution_count": null,
   "metadata": {},
   "outputs": [],
   "source": [
    "#set up the MCMC sampler\n",
    "sampler = emcee.EnsembleSampler(nwalkers, \n",
    "                                ndim, \n",
    "                                lnprob, #the likelihood function to maximize \n",
    "                                args=(example_data_1D['x'], #the arguments passed to the likelihood functions (other than the model parameters)\n",
    "                                      example_data_1D['y'], \n",
    "                                      example_data_1D['error']))\n",
    "#run the MCMC with the starting positions we defined and 100 sampling points per walker.\n",
    "#this is the equivalent of setting the number of steps each blindfolded person can \n",
    "#take in the room, using the example above.\n",
    "n_samples_per_walker=100\n",
    "output = sampler.run_mcmc(starting_positions, n_samples_per_walker) "
   ]
  },
  {
   "cell_type": "markdown",
   "metadata": {},
   "source": [
    "#### Okay let's see what we got! "
   ]
  },
  {
   "cell_type": "code",
   "execution_count": null,
   "metadata": {},
   "outputs": [],
   "source": [
    "#sampler.chain contains all of the samples from the MCMC.\n",
    "print(sampler.chain.shape)\n",
    "#It currently holds the samples separately for each walker.\n",
    "#We don't care about what each walker does, so let's flatten it:\n",
    "#The -1 here means we don't care how many rows it takes, \n",
    "#give us the same number of columns as we have parameters\n",
    "samples = sampler.chain.reshape((-1, ndim)) \n",
    "print(samples.shape)\n",
    "#So we tried 50000 total model realizations for 3 parameters"
   ]
  },
  {
   "cell_type": "code",
   "execution_count": null,
   "metadata": {},
   "outputs": [],
   "source": [
    "#So what did we actually get from this? Let's use another\n",
    "#python package to see the output of the MCMC sampling.\n",
    "#The dashed line is one way of estimating the best-fit parameters\n",
    "#from an MCMC sampler (the median of the samples). The blue line\n",
    "#shows the true values.\n",
    "fig = corner.corner(samples, #samples is defined above\n",
    "                    labels=[\"$a$\", \"$b$\",\"$c$\"],#parameter labels\n",
    "                    quantiles=[.5],\n",
    "                    plot_contours=False,plot_density=False,\n",
    "                    plot_datapoints=True)\n",
    "\n",
    "\n",
    "plt.show()"
   ]
  },
  {
   "cell_type": "code",
   "execution_count": null,
   "metadata": {},
   "outputs": [],
   "source": [
    "#But how close did we get to the true values?\n",
    "#We can take the 50th percentile of the distributions you see above\n",
    "#As our result. Incidentally we could calculate the uncertainty as \n",
    "#well, perhaps as the differences between the 84th and 50th for\n",
    "#the upper uncertainty, and 50th and 16th for the lower uncertainty\n",
    "\n",
    "#axis=0 means we want to calculate percentiles along columns, not rows\n",
    "a_mcmc, b_mcmc,c_mcmc = np.percentile(samples, 50,axis=0)\n",
    "a_mcmc_lower, b_mcmc_lower,c_mcmc_lower = np.percentile(samples, 16,axis=0)\n",
    "a_mcmc_upper, b_mcmc_upper,c_mcmc_upper = np.percentile(samples, 84,axis=0)\n",
    "\n",
    "print('a:',a_mcmc,'±(',a_mcmc_upper-a_mcmc,a_mcmc-a_mcmc_lower,')')\n",
    "print('b:',a_mcmc,'±(',b_mcmc_upper-b_mcmc,b_mcmc-b_mcmc_lower,')')\n",
    "print('c:',a_mcmc,'±(',c_mcmc_upper-c_mcmc,c_mcmc-c_mcmc_lower,')')\n"
   ]
  },
  {
   "cell_type": "markdown",
   "metadata": {},
   "source": [
    "#### Plot the result. Show the data (with error bars), with your best-fit line going through. How does it look? You could compare it to your $\\chi^2$ result if you want."
   ]
  },
  {
   "cell_type": "code",
   "execution_count": null,
   "metadata": {},
   "outputs": [],
   "source": [
    "#set up plotting the model over the data"
   ]
  },
  {
   "cell_type": "markdown",
   "metadata": {},
   "source": [
    "#### Not bad! Play with the `nwalkers` and `n_samples_per_walker` to see what it does to computation time and accuracy. What extra information do we get from this approach, vs. the simple $\\chi$-square minimization?"
   ]
  },
  {
   "cell_type": "code",
   "execution_count": null,
   "metadata": {},
   "outputs": [],
   "source": []
  }
 ],
 "metadata": {
  "kernelspec": {
   "display_name": "Python 3",
   "language": "python",
   "name": "python3"
  },
  "language_info": {
   "codemirror_mode": {
    "name": "ipython",
    "version": 3
   },
   "file_extension": ".py",
   "mimetype": "text/x-python",
   "name": "python",
   "nbconvert_exporter": "python",
   "pygments_lexer": "ipython3",
   "version": "3.6.8"
  }
 },
 "nbformat": 4,
 "nbformat_minor": 2
}
