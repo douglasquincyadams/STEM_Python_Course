{
 "cells": [
  {
   "cell_type": "code",
   "execution_count": null,
   "metadata": {},
   "outputs": [],
   "source": [
    "import numpy as np\n",
    "import scipy\n",
    "import scipy.stats\n",
    "import matplotlib.pyplot as plt"
   ]
  },
  {
   "cell_type": "code",
   "execution_count": null,
   "metadata": {},
   "outputs": [],
   "source": [
    "\n",
    "Gaussian1Mean = [1,1]\n",
    "Gaussian2Mean = [2,4]\n",
    "\n",
    "Gaussian1Covariance = numpy.identity(2)*1\n",
    "Gaussian2Covariance = numpy.identity(2)*.5\n",
    "\n",
    "\n",
    "def Gaussian1(ABpoint):\n",
    "    return scipy.stats.multivariate_normal.pdf( ABpoint, mean = Gaussian1Mean, \n",
    "                                               cov = Gaussian1Covariance )\n",
    "\n",
    "def Gaussian2(ABpoint):\n",
    "    return scipy.stats.multivariate_normal.pdf( ABpoint, mean = Gaussian2Mean, \n",
    "                                               cov = Gaussian2Covariance )\n",
    "\n",
    "def GaussianMultiModal(ABpoint):\n",
    "    return Gaussian1(ABpoint) + Gaussian2(ABpoint)\n",
    "\n"
   ]
  },
  {
   "cell_type": "markdown",
   "metadata": {},
   "source": [
    "#### Create your own algorithm that attempts to find the global peak of the 2D distribution. "
   ]
  },
  {
   "cell_type": "code",
   "execution_count": null,
   "metadata": {},
   "outputs": [],
   "source": []
  }
 ],
 "metadata": {
  "kernelspec": {
   "display_name": "Python 3",
   "language": "python",
   "name": "python3"
  },
  "language_info": {
   "codemirror_mode": {
    "name": "ipython",
    "version": 3
   },
   "file_extension": ".py",
   "mimetype": "text/x-python",
   "name": "python",
   "nbconvert_exporter": "python",
   "pygments_lexer": "ipython3",
   "version": "3.6.8"
  }
 },
 "nbformat": 4,
 "nbformat_minor": 2
}
